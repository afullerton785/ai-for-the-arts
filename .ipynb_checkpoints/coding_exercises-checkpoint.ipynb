{
 "cells": [
  {
   "cell_type": "markdown",
   "id": "987daae6",
   "metadata": {},
   "source": [
    "# Hello, World!\n",
    "\n",
    "The following code was created as my first attempt at programming in this course. It is meant to help me understand how to write and run code in GitHub Codespaces."
   ]
  },
  {
   "cell_type": "code",
   "execution_count": 4,
   "id": "90ba5002",
   "metadata": {},
   "outputs": [
    {
     "name": "stdout",
     "output_type": "stream",
     "text": [
      "Hello, World!\n"
     ]
    }
   ],
   "source": [
    "print(\"Hello, World!\")"
   ]
  },
  {
   "cell_type": "markdown",
   "id": "a99a60e7",
   "metadata": {},
   "source": [
    "# Basic Programming Concepts Notebook\n",
    "\n",
    "I have very little experience with coding so I imagine most if not all of these exercises will be new to me. As I progress I want to:\n",
    "- Gain more confidence in GitHub both in the repositories and in the codespaces.\n",
    "- Understand how the code I input works and why I need to type specific things.\n"
   ]
  }
 ],
 "metadata": {
  "kernelspec": {
   "display_name": "Python 3",
   "language": "python",
   "name": "python3"
  },
  "language_info": {
   "codemirror_mode": {
    "name": "ipython",
    "version": 3
   },
   "file_extension": ".py",
   "mimetype": "text/x-python",
   "name": "python",
   "nbconvert_exporter": "python",
   "pygments_lexer": "ipython3",
   "version": "3.12.1"
  }
 },
 "nbformat": 4,
 "nbformat_minor": 5
}
